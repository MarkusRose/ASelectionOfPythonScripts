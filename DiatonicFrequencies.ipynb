{
 "cells": [
  {
   "cell_type": "code",
   "execution_count": 1,
   "metadata": {},
   "outputs": [],
   "source": [
    "import numpy as np\n",
    "import matplotlib.pyplot as plt\n",
    "import pandas as pd"
   ]
  },
  {
   "cell_type": "code",
   "execution_count": 10,
   "metadata": {},
   "outputs": [
    {
     "name": "stdout",
     "output_type": "stream",
     "text": [
      "[1, 2, 4, 8, 16, 32, 64, 128, 256, 512]\n"
     ]
    }
   ],
   "source": [
    "octaves = []\n",
    "for i in range(10):\n",
    "    octaves.append(2**i)\n",
    "print(octaves)"
   ]
  },
  {
   "cell_type": "code",
   "execution_count": 3,
   "metadata": {},
   "outputs": [
    {
     "name": "stdout",
     "output_type": "stream",
     "text": [
      "[ 1  2  3  4  5  6  7  8  9 10 11 12]\n"
     ]
    }
   ],
   "source": [
    "harmonics = np.arange(1,13,1)\n",
    "print(harmonics)"
   ]
  },
  {
   "cell_type": "code",
   "execution_count": 11,
   "metadata": {},
   "outputs": [
    {
     "name": "stdout",
     "output_type": "stream",
     "text": [
      "[1, 1.5, 2.25, 3.375, 5.0625, 7.59375, 11.390625, 17.0859375, 25.62890625, 38.443359375, 57.6650390625, 86.49755859375]\n"
     ]
    }
   ],
   "source": [
    "quints = [1]\n",
    "for i in range(11):\n",
    "    quints.append(quints[-1]*3/2)\n",
    "print(quints)"
   ]
  },
  {
   "cell_type": "code",
   "execution_count": 15,
   "metadata": {},
   "outputs": [
    {
     "name": "stdout",
     "output_type": "stream",
     "text": [
      "[1.         1.06787109 1.125      1.20135498 1.265625   1.35152435\n",
      " 1.42382812 1.5        1.60180664 1.6875     1.80203247 1.8984375 ]\n",
      "[1.         1.09090909 1.18181818 1.27272727 1.36363636 1.45454545\n",
      " 1.54545455 1.63636364 1.72727273 1.81818182 1.90909091 2.        ]\n"
     ]
    }
   ],
   "source": [
    "diatonics = quints\n",
    "octindex = 0\n",
    "remember = 0\n",
    "for j in range(len(quints)):\n",
    "    if quints[j] >= octaves[octindex]:\n",
    "        remember = octaves[octindex]\n",
    "        octindex += 1\n",
    "    diatonics[j] = quints[j]/remember\n",
    "print(np.sort(diatonics))\n",
    "print(np.linspace(1,2,12))"
   ]
  },
  {
   "cell_type": "code",
   "execution_count": null,
   "metadata": {},
   "outputs": [],
   "source": []
  }
 ],
 "metadata": {
  "kernelspec": {
   "display_name": "Python 3",
   "language": "python",
   "name": "python3"
  },
  "language_info": {
   "codemirror_mode": {
    "name": "ipython",
    "version": 3
   },
   "file_extension": ".py",
   "mimetype": "text/x-python",
   "name": "python",
   "nbconvert_exporter": "python",
   "pygments_lexer": "ipython3",
   "version": "3.6.9"
  }
 },
 "nbformat": 4,
 "nbformat_minor": 2
}
